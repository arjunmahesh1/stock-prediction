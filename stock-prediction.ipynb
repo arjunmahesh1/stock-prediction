{
 "cells": [
  {
   "cell_type": "markdown",
   "metadata": {},
   "source": [
    "## Imports"
   ]
  },
  {
   "cell_type": "code",
   "execution_count": 1,
   "metadata": {},
   "outputs": [],
   "source": [
    "import tensorflow as tf\n",
    "from tensorflow.keras.models import Sequential\n",
    "from tensorflow.keras.layers import LSTM, Dense, Dropout, Bidirectional\n",
    "from tensorflow.keras.callbacks import ModelCheckpoint, TensorBoard\n",
    "from sklearn import preprocessing\n",
    "from sklearn.model_selection import train_test_split\n",
    "import yfinance as yf\n",
    "from collections import deque\n",
    "\n",
    "import os\n",
    "import numpy as np\n",
    "import pandas as pd\n",
    "import random\n",
    "\n",
    "np.random.seed(314)\n",
    "tf.random.set_seed(314)\n",
    "random.seed(314)"
   ]
  },
  {
   "cell_type": "markdown",
   "metadata": {},
   "source": [
    "## Prep Dataset"
   ]
  },
  {
   "cell_type": "code",
   "execution_count": 2,
   "metadata": {},
   "outputs": [],
   "source": [
    "def shuffle_in_unison(a, b):\n",
    "    state = np.random.get_state()\n",
    "    np.random.shuffle(a)\n",
    "    np.random.set_state(state)\n",
    "    np.random.shuffle(b)\n",
    "\n",
    "def load_data(ticker, n_steps=50, scale=True, shuffle=True, lookup_step=1, split_by_date=True,\n",
    "                test_size=0.2, feature_columns=['Adj Close', 'Volume', 'Open', 'High', 'Low']):\n",
    "    if isinstance(ticker, str):\n",
    "        df = yf.download(ticker)\n",
    "    elif isinstance(ticker, pd.DataFrame):\n",
    "        df = ticker\n",
    "    else: \n",
    "        raise TypeError(\"ticker can be either a str or a 'pd.DataFrame' instances\")\n",
    "    result = {}\n",
    "    result['df'] = df.copy()\n",
    "    for col in feature_columns:\n",
    "        assert col in df.columns, f\"'{col}' does not exist in dataframe\"\n",
    "    if \"date\" not in df.columns:\n",
    "        df[\"date\"] = df.index\n",
    "    if scale:\n",
    "        column_scaler = {}\n",
    "        for column in feature_columns:\n",
    "            scaler = preprocessing.MinMaxScaler()\n",
    "            df[column] = scaler.fit_transform(np.expand_dims(df[column].values, axis=1))\n",
    "            column_scaler[column] = scaler\n",
    "        result['column_scaler'] = column_scaler\n",
    "    df['future'] = df['Adj Close'].shift(-lookup_step)\n",
    "    last_sequence = np.array(df[feature_columns].tail(lookup_step))\n",
    "    df.dropna(inplace=True)\n",
    "    sequence_data = []\n",
    "    sequences = deque(maxlen=n_steps)\n",
    "    for entry, target in zip(df[feature_columns + [\"date\"]].values, df['future'].values):\n",
    "        sequences.append(entry)\n",
    "        if len(sequences) == n_steps:\n",
    "            sequence_data.append([np.array(sequences), target])\n",
    "    last_sequence = list([s[:len(feature_columns)] for s in sequences]) + list(last_sequence)\n",
    "    last_sequence = np.array(last_sequence).astype(np.float32)\n",
    "    result['last_sequence'] = last_sequence\n",
    "    X, y = [], []\n",
    "    for seq, target, in sequence_data:\n",
    "        X.append(seq)\n",
    "        y.append(target)\n",
    "    X = np.array(X)\n",
    "    y = np.array(y)\n",
    "    if split_by_date:\n",
    "        train_samples = int((1-test_size)*len(X))\n",
    "        result['X_train'] = X[:train_samples]\n",
    "        result['y_train'] = y[:train_samples]\n",
    "        result['X_test'] = X[train_samples:]\n",
    "        result['y_test'] = y[train_samples:]\n",
    "        if shuffle:\n",
    "            shuffle_in_unison(result['X_train'], result['y_train'])\n",
    "            shuffle_in_unison(result['X_test'], result['y_test'])\n",
    "    else:\n",
    "        result[\"X_train\"], result[\"X_test\"], result[\"y_train\"], result[\"y_test\"] = train_test_split(X, y, test_size=test_size, shuffle=shuffle)\n",
    "    dates = result['X_test'][:,-1,-1]\n",
    "    result['test_df'] = result['df'].loc[dates]\n",
    "    result[\"test_df\"] = result[\"test_df\"][~result[\"test_df\"].index.duplicated(keep='first')]\n",
    "    result[\"X_train\"] = result[\"X_train\"][:, :, :len(feature_columns)].astype(np.float32)\n",
    "    result[\"X_test\"] = result[\"X_test\"][:, :, :len(feature_columns)].astype(np.float32)\n",
    "    return result"
   ]
  },
  {
   "cell_type": "markdown",
   "metadata": {},
   "source": [
    "## Model Creation"
   ]
  },
  {
   "cell_type": "code",
   "execution_count": 3,
   "metadata": {},
   "outputs": [],
   "source": [
    "def create_model(sequence_length, n_features, units=256, cell=LSTM, n_layers=2, dropout=0.3,\n",
    "                loss=\"mean_absolute_error\", optimizer=\"rmsprop\", bidirectional=False):\n",
    "    model = Sequential()\n",
    "    for i in range(n_layers):\n",
    "        if i == 0:\n",
    "            if bidirectional:\n",
    "                model.add(Bidirectional(cell(units, return_sequences=True), batch_input_shape=(None, sequence_length, n_features)))\n",
    "            else:\n",
    "                model.add(cell(units, return_sequences=True, batch_input_shape=(None, sequence_length, n_features)))\n",
    "        elif i == n_layers - 1:\n",
    "            if bidirectional:\n",
    "                model.add(Bidirectional(cell(units, return_sequences=False)))\n",
    "            else:\n",
    "                model.add(cell(units, return_sequences=False))\n",
    "        else:\n",
    "            if bidirectional:\n",
    "                model.add(Bidirectional(cell(units, return_sequences=True)))\n",
    "            else:\n",
    "                model.add(cell(units, return_sequences=True))\n",
    "        model.add(Dropout(dropout))\n",
    "    model.add(Dense(1, activation=\"linear\"))\n",
    "    model.compile(loss=loss, metrics=[\"mean_absolute_error\"], optimizer=optimizer)\n",
    "    return model"
   ]
  },
  {
   "cell_type": "markdown",
   "metadata": {},
   "source": [
    "## Model Training"
   ]
  },
  {
   "cell_type": "code",
   "execution_count": 4,
   "metadata": {},
   "outputs": [
    {
     "name": "stdout",
     "output_type": "stream",
     "text": [
      "[*********************100%%**********************]  1 of 1 completed\n",
      "Epoch 1/10\n",
      "36/36 [==============================] - ETA: 0s - loss: 0.0107 - mean_absolute_error: 0.0861\n",
      "Epoch 1: val_loss improved from inf to 0.00095, saving model to results\\2023-10-10_META-sh-1-sc-1-sbd-0-huber_loss-adam-LSTM-seq-50-step-15-layers-2-units-256.h5\n",
      "36/36 [==============================] - 112s 2s/step - loss: 0.0107 - mean_absolute_error: 0.0861 - val_loss: 9.4559e-04 - val_mean_absolute_error: 0.0310\n",
      "Epoch 2/10\n",
      "36/36 [==============================] - ETA: 0s - loss: 0.0018 - mean_absolute_error: 0.0411\n",
      "Epoch 2: val_loss did not improve from 0.00095\n",
      "36/36 [==============================] - 48s 1s/step - loss: 0.0018 - mean_absolute_error: 0.0411 - val_loss: 0.0012 - val_mean_absolute_error: 0.0350\n",
      "Epoch 3/10\n",
      "36/36 [==============================] - ETA: 0s - loss: 0.0017 - mean_absolute_error: 0.0392\n",
      "Epoch 3: val_loss improved from 0.00095 to 0.00091, saving model to results\\2023-10-10_META-sh-1-sc-1-sbd-0-huber_loss-adam-LSTM-seq-50-step-15-layers-2-units-256.h5\n",
      "36/36 [==============================] - 28s 748ms/step - loss: 0.0017 - mean_absolute_error: 0.0392 - val_loss: 9.1090e-04 - val_mean_absolute_error: 0.0292\n",
      "Epoch 4/10\n",
      "36/36 [==============================] - ETA: 0s - loss: 0.0017 - mean_absolute_error: 0.0386\n",
      "Epoch 4: val_loss improved from 0.00091 to 0.00085, saving model to results\\2023-10-10_META-sh-1-sc-1-sbd-0-huber_loss-adam-LSTM-seq-50-step-15-layers-2-units-256.h5\n",
      "36/36 [==============================] - 27s 751ms/step - loss: 0.0017 - mean_absolute_error: 0.0386 - val_loss: 8.4966e-04 - val_mean_absolute_error: 0.0279\n",
      "Epoch 5/10\n",
      "36/36 [==============================] - ETA: 0s - loss: 0.0017 - mean_absolute_error: 0.0388\n",
      "Epoch 5: val_loss did not improve from 0.00085\n",
      "36/36 [==============================] - 31s 850ms/step - loss: 0.0017 - mean_absolute_error: 0.0388 - val_loss: 8.6944e-04 - val_mean_absolute_error: 0.0290\n",
      "Epoch 6/10\n",
      "36/36 [==============================] - ETA: 0s - loss: 0.0016 - mean_absolute_error: 0.0377\n",
      "Epoch 6: val_loss did not improve from 0.00085\n",
      "36/36 [==============================] - 32s 902ms/step - loss: 0.0016 - mean_absolute_error: 0.0377 - val_loss: 9.6880e-04 - val_mean_absolute_error: 0.0312\n",
      "Epoch 7/10\n",
      "36/36 [==============================] - ETA: 0s - loss: 0.0017 - mean_absolute_error: 0.0396\n",
      "Epoch 7: val_loss did not improve from 0.00085\n",
      "36/36 [==============================] - 19s 527ms/step - loss: 0.0017 - mean_absolute_error: 0.0396 - val_loss: 0.0014 - val_mean_absolute_error: 0.0396\n",
      "Epoch 8/10\n",
      "36/36 [==============================] - ETA: 0s - loss: 0.0017 - mean_absolute_error: 0.0396\n",
      "Epoch 8: val_loss did not improve from 0.00085\n",
      "36/36 [==============================] - 20s 563ms/step - loss: 0.0017 - mean_absolute_error: 0.0396 - val_loss: 0.0015 - val_mean_absolute_error: 0.0396\n",
      "Epoch 9/10\n",
      "36/36 [==============================] - ETA: 0s - loss: 0.0016 - mean_absolute_error: 0.0383\n",
      "Epoch 9: val_loss improved from 0.00085 to 0.00083, saving model to results\\2023-10-10_META-sh-1-sc-1-sbd-0-huber_loss-adam-LSTM-seq-50-step-15-layers-2-units-256.h5\n",
      "36/36 [==============================] - 19s 530ms/step - loss: 0.0016 - mean_absolute_error: 0.0383 - val_loss: 8.3478e-04 - val_mean_absolute_error: 0.0280\n",
      "Epoch 10/10\n",
      "36/36 [==============================] - ETA: 0s - loss: 0.0016 - mean_absolute_error: 0.0377\n",
      "Epoch 10: val_loss did not improve from 0.00083\n",
      "36/36 [==============================] - 21s 574ms/step - loss: 0.0016 - mean_absolute_error: 0.0377 - val_loss: 0.0010 - val_mean_absolute_error: 0.0322\n"
     ]
    }
   ],
   "source": [
    "import os\n",
    "import time\n",
    "from tensorflow.keras.layers import LSTM\n",
    "\n",
    "N_STEPS = 50\n",
    "LOOKUP_STEP = 15\n",
    "SCALE = True\n",
    "scale_str = f\"sc-{int(SCALE)}\"\n",
    "SHUFFLE = True\n",
    "shuffle_str = f\"sh-{int(SHUFFLE)}\"\n",
    "SPLIT_BY_DATE = False\n",
    "split_by_date_str = f\"sbd-{int(SPLIT_BY_DATE)}\"\n",
    "TEST_SIZE = 0.2\n",
    "FEATURE_COLUMNS = [\"Adj Close\", \"Volume\", \"Open\", \"High\", \"Low\"]\n",
    "date_now = time.strftime(\"%Y-%m-%d\")\n",
    "N_LAYERS = 2\n",
    "CELL = LSTM\n",
    "UNITS = 256\n",
    "DROPOUT = 0.4\n",
    "BIDIRECTIONAL = False\n",
    "\n",
    "LOSS = \"huber_loss\"\n",
    "OPTIMIZER = \"adam\"\n",
    "BATCH_SIZE = 64\n",
    "EPOCHS = 10\n",
    "\n",
    "ticker = \"META\"\n",
    "ticker_data_filename = os.path.join(\"data\", f\"{ticker}_{date_now}.csv\")\n",
    "\n",
    "model_name = f\"{date_now}_{ticker}-{shuffle_str}-{scale_str}-{split_by_date_str}-\\\n",
    "{LOSS}-{OPTIMIZER}-{CELL.__name__}-seq-{N_STEPS}-step-{LOOKUP_STEP}-layers-{N_LAYERS}-units-{UNITS}\"\n",
    "if BIDIRECTIONAL:\n",
    "    model_name += \"-b\"\n",
    "\n",
    "if not os.path.isdir(\"results\"):\n",
    "    os.mkdir(\"results\")\n",
    "if not os.path.isdir(\"logs\"):\n",
    "    os.mkdir(\"logs\")\n",
    "if not os.path.isdir(\"data\"):\n",
    "    os.mkdir(\"data\")\n",
    "\n",
    "data = load_data(ticker, N_STEPS, scale=SCALE, split_by_date=SPLIT_BY_DATE, \n",
    "                shuffle=SHUFFLE, lookup_step=LOOKUP_STEP, test_size=TEST_SIZE, \n",
    "                feature_columns=FEATURE_COLUMNS)\n",
    "\n",
    "data[\"df\"].to_csv(ticker_data_filename)\n",
    "\n",
    "model = create_model(N_STEPS, len(FEATURE_COLUMNS), loss=LOSS, units=UNITS, cell=CELL, n_layers=N_LAYERS,\n",
    "                    dropout=DROPOUT, optimizer=OPTIMIZER, bidirectional=BIDIRECTIONAL)\n",
    "\n",
    "checkpointer = ModelCheckpoint(os.path.join(\"results\", model_name + \".h5\"), save_weights_only=True, save_best_only=True, verbose=1)\n",
    "tensorboard = TensorBoard(log_dir=os.path.join(\"logs\", model_name))\n",
    "\n",
    "history = model.fit(data[\"X_train\"], data[\"y_train\"],\n",
    "                    batch_size=BATCH_SIZE,\n",
    "                    epochs=EPOCHS,\n",
    "                    validation_data=(data[\"X_test\"], data[\"y_test\"]),\n",
    "                    callbacks=[checkpointer, tensorboard],\n",
    "                    verbose=1)"
   ]
  },
  {
   "cell_type": "code",
   "execution_count": 5,
   "metadata": {},
   "outputs": [
    {
     "ename": "SyntaxError",
     "evalue": "cannot assign to expression here. Maybe you meant '==' instead of '='? (2749059114.py, line 1)",
     "output_type": "error",
     "traceback": [
      "\u001b[1;36m  Cell \u001b[1;32mIn[5], line 1\u001b[1;36m\u001b[0m\n\u001b[1;33m    tensorboard --logdir=\"logs\"\u001b[0m\n\u001b[1;37m    ^\u001b[0m\n\u001b[1;31mSyntaxError\u001b[0m\u001b[1;31m:\u001b[0m cannot assign to expression here. Maybe you meant '==' instead of '='?\n"
     ]
    }
   ],
   "source": [
    "#tensorboard --logdir=\"logs\""
   ]
  },
  {
   "cell_type": "code",
   "execution_count": 9,
   "metadata": {},
   "outputs": [],
   "source": [
    "import matplotlib.pyplot as plt\n",
    "\n",
    "def plot_graph(test_df):\n",
    "    plt.plot(test_df[f'true_adjclose_{LOOKUP_STEP}'], c='b')\n",
    "    plt.plot(test_df[f'adjclose_{LOOKUP_STEP}'], c='r')\n",
    "    plt.xlabel(\"Days\")\n",
    "    plt.ylabel(\"Price\")\n",
    "    plt.legend([\"Actual Price\", \"Predicted Price\"])\n",
    "    plt.show()"
   ]
  },
  {
   "cell_type": "code",
   "execution_count": 10,
   "metadata": {},
   "outputs": [],
   "source": [
    "def get_final_df(model, data):\n",
    "    buy_profit  = lambda current, pred_future, true_future: true_future - current if pred_future > current else 0\n",
    "    sell_profit = lambda current, pred_future, true_future: current - true_future if pred_future < current else 0\n",
    "    X_test = data[\"X_test\"]\n",
    "    y_test = data[\"y_test\"]\n",
    "\n",
    "    y_pred = model.predict(X_test)\n",
    "    if SCALE:\n",
    "        y_test = np.squeeze(data[\"column_scaler\"][\"Adj Close\"].inverse_transform(np.expand_dims(y_test, axis=0)))\n",
    "        y_pred = np.squeeze(data[\"column_scaler\"][\"Adj Close\"].inverse_transform(y_pred))\n",
    "    test_df = data[\"test_df\"]\n",
    "    test_df[f\"adjclose_{LOOKUP_STEP}\"] = y_pred\n",
    "    test_df[f\"true_adjclose_{LOOKUP_STEP}\"] = y_test\n",
    "    test_df.sort_index(inplace=True)\n",
    "    final_df = test_df\n",
    "    final_df[\"buy_profit\"] = list(map(buy_profit, \n",
    "                                    final_df[\"Adj Close\"], \n",
    "                                    final_df[f\"adjclose_{LOOKUP_STEP}\"], \n",
    "                                    final_df[f\"true_adjclose_{LOOKUP_STEP}\"])\n",
    "                                    )\n",
    "    final_df[\"sell_profit\"] = list(map(sell_profit, \n",
    "                                    final_df[\"Adj Close\"], \n",
    "                                    final_df[f\"adjclose_{LOOKUP_STEP}\"], \n",
    "                                    final_df[f\"true_adjclose_{LOOKUP_STEP}\"])\n",
    "                                    )\n",
    "    return final_df"
   ]
  },
  {
   "cell_type": "markdown",
   "metadata": {},
   "source": [
    "## Predict"
   ]
  },
  {
   "cell_type": "code",
   "execution_count": 11,
   "metadata": {},
   "outputs": [],
   "source": [
    "def predict(model, data):\n",
    "    last_sequence = data[\"last_sequence\"][-N_STEPS:]\n",
    "    last_sequence = np.expand_dims(last_sequence, axis=0)\n",
    "    prediction = model.predict(last_sequence)\n",
    "    if SCALE:\n",
    "        predicted_price = data[\"column_scaler\"][\"Adj Close\"].inverse_transform(prediction)[0][0]\n",
    "    else:\n",
    "        predicted_price = prediction[0][0]\n",
    "    return predicted_price"
   ]
  },
  {
   "cell_type": "markdown",
   "metadata": {},
   "source": [
    "## Optimal Weights and Evaluate"
   ]
  },
  {
   "cell_type": "code",
   "execution_count": 12,
   "metadata": {},
   "outputs": [],
   "source": [
    "model_path = os.path.join(\"results\", model_name) + \".h5\"\n",
    "model.load_weights(model_path)\n",
    "\n",
    "loss, mae = model.evaluate(data[\"X_test\"], data[\"y_test\"], verbose=0)\n",
    "if SCALE:\n",
    "    mean_absolute_error = data[\"column_scaler\"][\"Adj Close\"].inverse_transform([[mae]])[0][0]\n",
    "else:\n",
    "    mean_absolute_error = mae"
   ]
  },
  {
   "cell_type": "markdown",
   "metadata": {},
   "source": [
    "## Prediction + Accuracy"
   ]
  },
  {
   "cell_type": "code",
   "execution_count": 13,
   "metadata": {},
   "outputs": [
    {
     "name": "stdout",
     "output_type": "stream",
     "text": [
      "18/18 [==============================] - 6s 98ms/step\n",
      "1/1 [==============================] - 0s 77ms/step\n",
      "Future price after 15 days is 301.16$\n",
      "huber_loss loss: 0.0008347786497324705\n",
      "Mean Absolute Error: 27.93198137517512\n",
      "Accuracy score: 0.5561497326203209\n",
      "Total buy profit: 585.8400878906266\n",
      "Total sell profit: -79.10978126525924\n",
      "Total profit: 506.73030662536735\n",
      "Profit per trade: 0.9032625786548437\n"
     ]
    },
    {
     "data": {
      "image/png": "[encoded data removed]",
      "text/plain": [
       "<Figure size 640x480 with 1 Axes>"
      ]
     },
     "metadata": {},
     "output_type": "display_data"
    },
    {
     "name": "stdout",
     "output_type": "stream",
     "text": [
      "                  Open        High         Low       Close   Adj Close  \\\n",
      "Date                                                                     \n",
      "2023-07-19  313.029999  318.679993  310.519989  316.010010  316.010010   \n",
      "2023-07-24  295.779999  297.519989  288.299988  291.609985  291.609985   \n",
      "2023-07-27  325.119995  325.350006  309.839996  311.709991  311.709991   \n",
      "2023-07-28  316.880005  326.200012  314.250000  325.480011  325.480011   \n",
      "2023-07-31  323.690002  325.660004  317.589996  318.600006  318.600006   \n",
      "2023-08-01  317.540009  324.140015  314.660004  322.709991  322.709991   \n",
      "2023-08-15  306.140015  307.230011  300.029999  301.950012  301.950012   \n",
      "2023-08-25  286.130005  288.390015  276.029999  285.500000  285.500000   \n",
      "2023-08-31  295.799988  301.100006  295.660004  295.890015  295.890015   \n",
      "2023-09-05  297.019989  301.390015  295.510010  300.149994  300.149994   \n",
      "\n",
      "              Volume  adjclose_15  true_adjclose_15  buy_profit  sell_profit  \n",
      "Date                                                                          \n",
      "2023-07-19  21763700   300.904297        305.209991    0.000000    10.800018  \n",
      "2023-07-24  24915700   299.438354        306.190002   14.580017     0.000000  \n",
      "2023-07-27  64229200   295.535675        285.089996    0.000000    26.619995  \n",
      "2023-07-28  39220300   297.613922        283.250000    0.000000    42.230011  \n",
      "2023-07-31  25799600   300.454681        289.899994    0.000000    28.700012  \n",
      "2023-08-01  22817900   303.245605        287.600006    0.000000    35.109985  \n",
      "2023-08-15  11623600   300.516266        299.170013    0.000000     2.779999  \n",
      "2023-08-25  23701400   283.827240        302.549988    0.000000   -17.049988  \n",
      "2023-08-31  17229900   285.738281        299.079987    0.000000    -3.189972  \n",
      "2023-09-05  14956000   288.576019        298.959991    0.000000     1.190002  \n"
     ]
    }
   ],
   "source": [
    "final_df = get_final_df(model, data)\n",
    "future_price = predict(model, data)\n",
    "\n",
    "accuracy_score = (len(final_df[final_df['sell_profit'] > 0]) + len(final_df[final_df['buy_profit'] > 0])) / len(final_df)\n",
    "total_buy_profit  = final_df[\"buy_profit\"].sum()\n",
    "total_sell_profit = final_df[\"sell_profit\"].sum()\n",
    "total_profit = total_buy_profit + total_sell_profit\n",
    "profit_per_trade = total_profit / len(final_df)\n",
    "\n",
    "print(f\"Future price after {LOOKUP_STEP} days is {future_price:.2f}$\")\n",
    "print(f\"{LOSS} loss:\", loss)\n",
    "print(\"Mean Absolute Error:\", mean_absolute_error)\n",
    "print(\"Accuracy score:\", accuracy_score)\n",
    "print(\"Total buy profit:\", total_buy_profit)\n",
    "print(\"Total sell profit:\", total_sell_profit)\n",
    "print(\"Total profit:\", total_profit)\n",
    "print(\"Profit per trade:\", profit_per_trade)\n",
    "\n",
    "plot_graph(final_df)\n",
    "print(final_df.tail(10))\n",
    "csv_results_folder = \"csv-results\"\n",
    "if not os.path.isdir(csv_results_folder):\n",
    "    os.mkdir(csv_results_folder)\n",
    "csv_filename = os.path.join(csv_results_folder, model_name + \".csv\")\n",
    "final_df.to_csv(csv_filename)"
   ]
  }
 ],
 "metadata": {
  "kernelspec": {
   "display_name": "Python 3",
   "language": "python",
   "name": "python3"
  },
  "language_info": {
   "codemirror_mode": {
    "name": "ipython",
    "version": 3
   },
   "file_extension": ".py",
   "mimetype": "text/x-python",
   "name": "python",
   "nbconvert_exporter": "python",
   "pygments_lexer": "ipython3",
   "version": "3.10.8"
  },
  "orig_nbformat": 4
 },
 "nbformat": 4,
 "nbformat_minor": 2
}
